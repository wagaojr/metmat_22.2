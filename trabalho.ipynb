{
 "cells": [
  {
   "attachments": {},
   "cell_type": "markdown",
   "metadata": {},
   "source": [
    "# Trabalho Final da disciplina de Métodos Matemáticos em Engenharia Eletrônica\n",
    "### <p align=\"center\">Grupo 5</p>\n",
    "\n",
    "### Integrantes do grupo:    <p align =\"center\">Wagner Franco da Silva Junior</p>\n",
    "###                          <p align =\"center\">Afonso Mateus</p>\n",
    "###                          <p align =\"center\">Kevin Flauzino</p>\n",
    "###                          <p align =\"center\">Matheus Táboas</p>  "
   ]
  },
  {
   "cell_type": "code",
   "execution_count": null,
   "metadata": {},
   "outputs": [],
   "source": []
  }
 ],
 "metadata": {
  "kernelspec": {
   "display_name": "Python 3",
   "language": "python",
   "name": "python3"
  },
  "language_info": {
   "name": "python",
   "version": "3.10.6 (main, Nov  2 2022, 18:53:38) [GCC 11.3.0]"
  },
  "orig_nbformat": 4,
  "vscode": {
   "interpreter": {
    "hash": "916dbcbb3f70747c44a77c7bcd40155683ae19c65e1c03b4aa3499c5328201f1"
   }
  }
 },
 "nbformat": 4,
 "nbformat_minor": 2
}

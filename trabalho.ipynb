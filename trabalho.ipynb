{
 "cells": [
  {
   "attachments": {},
   "cell_type": "markdown",
   "metadata": {},
   "source": [
    "# Trabalho Final da disciplina de Métodos Matemáticos em Engenharia Eletrônica\n",
    "### <p align=\"center\">Grupo 5</p>\n",
    "\n",
    "### Integrantes do grupo:    <p align =\"center\">Wagner Franco da Silva Junior</p>\n",
    "###                          <p align =\"center\">Afonso Mateus</p>\n",
    "###                          <p align =\"center\">Kevin Flauzino</p>\n",
    "###                          <p align =\"center\">Matheus Táboas</p>  "
   ]
  },
  {
   "attachments": {},
   "cell_type": "markdown",
   "metadata": {},
   "source": [
    "### Questão 1 - A:"
   ]
  },
  {
   "cell_type": "code",
   "execution_count": 172,
   "metadata": {},
   "outputs": [
    {
     "name": "stdout",
     "output_type": "stream",
     "text": [
      "1 --> 35.0\n",
      "2 --> 38.125\n",
      "3 --> 39.050925925925924\n",
      "4 --> 39.480613425925924\n",
      "5 --> 39.72861342592592\n",
      "6 --> 39.89065046296296\n",
      "7 --> 40.005186073125394\n",
      "8 --> 40.090635291875394\n",
      "9 --> 40.1569361606454\n",
      "\n",
      "\n",
      "Valor final ---->  40.1569361606454\n",
      "|erro| < | 0.04337135441568199 |\n"
     ]
    }
   ],
   "source": [
    "x=0\n",
    "for i in range(1, 10):\n",
    "    x = x + ((5*(i**2)) +30) / i**4\n",
    "    print(i, \"-->\", x)\n",
    "\n",
    "i = 11\n",
    "y = ((5*(i**2)) +30) / i**4\n",
    "\n",
    "print(\"\\n\\nValor final ----> \", x)\n",
    "print(\"|erro| < |\", y, \"|\")"
   ]
  },
  {
   "attachments": {},
   "cell_type": "markdown",
   "metadata": {},
   "source": [
    "### Questão 1 - B:"
   ]
  },
  {
   "cell_type": "code",
   "execution_count": 171,
   "metadata": {},
   "outputs": [
    {
     "name": "stdout",
     "output_type": "stream",
     "text": [
      "Termos necessários ---->  70\n",
      "Sn ---->  0.0010216576426488964\n",
      "S ----->  40.62341801305567\n",
      "|erro| ---->  0.0009930472525607416\n"
     ]
    }
   ],
   "source": [
    "x=0\n",
    "y=1\n",
    "i=1\n",
    "while(y > 0.001): \n",
    "    x = x + ((5*(i**2)) +30) / i**4 #S     \n",
    "\n",
    "    j = i+1\n",
    "    y = ((5*(j**2)) +30) / j**4  #Erro    \n",
    "\n",
    "    i = i + 1\n",
    "\n",
    "i = i - 1\n",
    "z = ((5*(i**2)) +30) / i**4  #Sn   \n",
    "\n",
    "print(\"Termos necessários ----> \", i)\n",
    "print(\"Sn ----> \", z)\n",
    "print(\"S -----> \", x)\n",
    "print(\"|erro| ----> \", y)"
   ]
  },
  {
   "attachments": {},
   "cell_type": "markdown",
   "metadata": {},
   "source": [
    "### Questão 5 - A:"
   ]
  }
 ],
 "metadata": {
  "kernelspec": {
   "display_name": "Python 3",
   "language": "python",
   "name": "python3"
  },
  "language_info": {
   "codemirror_mode": {
    "name": "ipython",
    "version": 3
   },
   "file_extension": ".py",
   "mimetype": "text/x-python",
   "name": "python",
   "nbconvert_exporter": "python",
   "pygments_lexer": "ipython3",
   "version": "3.10.9"
  },
  "orig_nbformat": 4,
  "vscode": {
   "interpreter": {
    "hash": "f8ca15d83b6fb72cece3edcf60f6aa40d2cbdeb5c60e0f188ff8c7c65828fd00"
   }
  }
 },
 "nbformat": 4,
 "nbformat_minor": 2
}
